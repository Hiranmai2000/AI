{
 "cells": [
  {
   "cell_type": "code",
   "execution_count": 3,
   "metadata": {},
   "outputs": [],
   "source": [
    "import pandas as pd"
   ]
  },
  {
   "cell_type": "code",
   "execution_count": 4,
   "metadata": {},
   "outputs": [],
   "source": [
    "data = pd.read_csv(\"bitcoin_data.csv\")"
   ]
  },
  {
   "cell_type": "code",
   "execution_count": 5,
   "metadata": {},
   "outputs": [
    {
     "data": {
      "text/html": [
       "<div>\n",
       "<style scoped>\n",
       "    .dataframe tbody tr th:only-of-type {\n",
       "        vertical-align: middle;\n",
       "    }\n",
       "\n",
       "    .dataframe tbody tr th {\n",
       "        vertical-align: top;\n",
       "    }\n",
       "\n",
       "    .dataframe thead th {\n",
       "        text-align: right;\n",
       "    }\n",
       "</style>\n",
       "<table border=\"1\" class=\"dataframe\">\n",
       "  <thead>\n",
       "    <tr style=\"text-align: right;\">\n",
       "      <th></th>\n",
       "      <th>Timestamp</th>\n",
       "      <th>Open</th>\n",
       "      <th>High</th>\n",
       "      <th>Low</th>\n",
       "      <th>Close</th>\n",
       "      <th>Volume (BTC)</th>\n",
       "      <th>Volume (Currency)</th>\n",
       "      <th>Weighted Price</th>\n",
       "    </tr>\n",
       "  </thead>\n",
       "  <tbody>\n",
       "    <tr>\n",
       "      <th>0</th>\n",
       "      <td>1/1/17 0:00</td>\n",
       "      <td>966.34</td>\n",
       "      <td>1005.00</td>\n",
       "      <td>960.53</td>\n",
       "      <td>997.75</td>\n",
       "      <td>6850.59</td>\n",
       "      <td>6764742.06</td>\n",
       "      <td>987.47</td>\n",
       "    </tr>\n",
       "    <tr>\n",
       "      <th>1</th>\n",
       "      <td>1/2/17 0:00</td>\n",
       "      <td>997.75</td>\n",
       "      <td>1032.00</td>\n",
       "      <td>990.01</td>\n",
       "      <td>1012.54</td>\n",
       "      <td>8167.38</td>\n",
       "      <td>8273576.99</td>\n",
       "      <td>1013.00</td>\n",
       "    </tr>\n",
       "    <tr>\n",
       "      <th>2</th>\n",
       "      <td>1/3/17 0:00</td>\n",
       "      <td>1011.44</td>\n",
       "      <td>1039.00</td>\n",
       "      <td>999.99</td>\n",
       "      <td>1035.24</td>\n",
       "      <td>9089.66</td>\n",
       "      <td>9276500.31</td>\n",
       "      <td>1020.56</td>\n",
       "    </tr>\n",
       "    <tr>\n",
       "      <th>3</th>\n",
       "      <td>1/4/17 0:00</td>\n",
       "      <td>1035.51</td>\n",
       "      <td>1139.89</td>\n",
       "      <td>1028.56</td>\n",
       "      <td>1114.92</td>\n",
       "      <td>21562.46</td>\n",
       "      <td>23469644.96</td>\n",
       "      <td>1088.45</td>\n",
       "    </tr>\n",
       "    <tr>\n",
       "      <th>4</th>\n",
       "      <td>1/5/17 0:00</td>\n",
       "      <td>1114.38</td>\n",
       "      <td>1136.72</td>\n",
       "      <td>885.41</td>\n",
       "      <td>1004.74</td>\n",
       "      <td>36018.86</td>\n",
       "      <td>36211399.53</td>\n",
       "      <td>1005.35</td>\n",
       "    </tr>\n",
       "  </tbody>\n",
       "</table>\n",
       "</div>"
      ],
      "text/plain": [
       "     Timestamp     Open     High      Low    Close  Volume (BTC)  \\\n",
       "0  1/1/17 0:00   966.34  1005.00   960.53   997.75       6850.59   \n",
       "1  1/2/17 0:00   997.75  1032.00   990.01  1012.54       8167.38   \n",
       "2  1/3/17 0:00  1011.44  1039.00   999.99  1035.24       9089.66   \n",
       "3  1/4/17 0:00  1035.51  1139.89  1028.56  1114.92      21562.46   \n",
       "4  1/5/17 0:00  1114.38  1136.72   885.41  1004.74      36018.86   \n",
       "\n",
       "   Volume (Currency)  Weighted Price  \n",
       "0         6764742.06          987.47  \n",
       "1         8273576.99         1013.00  \n",
       "2         9276500.31         1020.56  \n",
       "3        23469644.96         1088.45  \n",
       "4        36211399.53         1005.35  "
      ]
     },
     "execution_count": 5,
     "metadata": {},
     "output_type": "execute_result"
    }
   ],
   "source": [
    "data.head()"
   ]
  },
  {
   "cell_type": "code",
   "execution_count": 6,
   "metadata": {},
   "outputs": [
    {
     "data": {
      "text/plain": [
       "(452, 8)"
      ]
     },
     "execution_count": 6,
     "metadata": {},
     "output_type": "execute_result"
    }
   ],
   "source": [
    "data.shape"
   ]
  },
  {
   "cell_type": "code",
   "execution_count": 7,
   "metadata": {},
   "outputs": [
    {
     "data": {
      "text/plain": [
       "Timestamp            0\n",
       "Open                 0\n",
       "High                 0\n",
       "Low                  0\n",
       "Close                0\n",
       "Volume (BTC)         0\n",
       "Volume (Currency)    0\n",
       "Weighted Price       0\n",
       "dtype: int64"
      ]
     },
     "execution_count": 7,
     "metadata": {},
     "output_type": "execute_result"
    }
   ],
   "source": [
    "data.isnull().sum()"
   ]
  },
  {
   "cell_type": "code",
   "execution_count": 8,
   "metadata": {},
   "outputs": [
    {
     "name": "stdout",
     "output_type": "stream",
     "text": [
      "<class 'pandas.core.frame.DataFrame'>\n",
      "RangeIndex: 452 entries, 0 to 451\n",
      "Data columns (total 8 columns):\n",
      "Timestamp            452 non-null object\n",
      "Open                 452 non-null float64\n",
      "High                 452 non-null float64\n",
      "Low                  452 non-null float64\n",
      "Close                452 non-null float64\n",
      "Volume (BTC)         452 non-null float64\n",
      "Volume (Currency)    452 non-null float64\n",
      "Weighted Price       452 non-null float64\n",
      "dtypes: float64(7), object(1)\n",
      "memory usage: 26.5+ KB\n"
     ]
    }
   ],
   "source": [
    "data.info()"
   ]
  },
  {
   "cell_type": "code",
   "execution_count": 10,
   "metadata": {},
   "outputs": [],
   "source": [
    "from sklearn.preprocessing import LabelEncoder\n",
    "data[\"Timestamp\"] = LabelEncoder().fit_transform(data[\"Timestamp\"])"
   ]
  },
  {
   "cell_type": "code",
   "execution_count": 11,
   "metadata": {},
   "outputs": [],
   "source": [
    "X = data.drop(\"Weighted Price\", axis = 1)\n",
    "y = data[\"Weighted Price\"]"
   ]
  },
  {
   "cell_type": "code",
   "execution_count": 12,
   "metadata": {},
   "outputs": [],
   "source": [
    "import matplotlib.pyplot as plt\n",
    "%matplotlib inline"
   ]
  },
  {
   "cell_type": "code",
   "execution_count": 13,
   "metadata": {},
   "outputs": [
    {
     "data": {
      "text/plain": [
       "<BarContainer object of 452 artists>"
      ]
     },
     "execution_count": 13,
     "metadata": {},
     "output_type": "execute_result"
    },
    {
     "data": {
      "image/png": "[encoded data removed]",
      "text/plain": [
       "<Figure size 432x288 with 1 Axes>"
      ]
     },
     "metadata": {},
     "output_type": "display_data"
    }
   ],
   "source": [
    "plt.barh(data[\"High\"], data[\"Weighted Price\"])"
   ]
  },
  {
   "cell_type": "code",
   "execution_count": 14,
   "metadata": {},
   "outputs": [
    {
     "data": {
      "text/plain": [
       "<BarContainer object of 452 artists>"
      ]
     },
     "execution_count": 14,
     "metadata": {},
     "output_type": "execute_result"
    },
    {
     "data": {
      "image/png": "[encoded data removed]",
      "text/plain": [
       "<Figure size 432x288 with 1 Axes>"
      ]
     },
     "metadata": {},
     "output_type": "display_data"
    }
   ],
   "source": [
    "plt.barh(data[\"Low\"], data[\"Weighted Price\"])"
   ]
  },
  {
   "cell_type": "code",
   "execution_count": 15,
   "metadata": {},
   "outputs": [
    {
     "data": {
      "text/plain": [
       "<BarContainer object of 452 artists>"
      ]
     },
     "execution_count": 15,
     "metadata": {},
     "output_type": "execute_result"
    },
    {
     "data": {
      "image/png": "[encoded data removed]",
      "text/plain": [
       "<Figure size 432x288 with 1 Axes>"
      ]
     },
     "metadata": {},
     "output_type": "display_data"
    }
   ],
   "source": [
    "plt.barh(data[\"Close\"], data[\"Weighted Price\"])"
   ]
  },
  {
   "cell_type": "code",
   "execution_count": 16,
   "metadata": {},
   "outputs": [
    {
     "data": {
      "text/plain": [
       "<BarContainer object of 452 artists>"
      ]
     },
     "execution_count": 16,
     "metadata": {},
     "output_type": "execute_result"
    },
    {
     "data": {
      "image/png": "[encoded data removed]",
      "text/plain": [
       "<Figure size 432x288 with 1 Axes>"
      ]
     },
     "metadata": {},
     "output_type": "display_data"
    }
   ],
   "source": [
    "plt.barh(data[\"Timestamp\"], data[\"Weighted Price\"])"
   ]
  },
  {
   "cell_type": "code",
   "execution_count": 17,
   "metadata": {},
   "outputs": [],
   "source": [
    "from sklearn.preprocessing import StandardScaler\n",
    "X_scaled = StandardScaler().fit_transform(X)"
   ]
  },
  {
   "cell_type": "code",
   "execution_count": 18,
   "metadata": {},
   "outputs": [],
   "source": [
    "from sklearn.model_selection import train_test_split\n",
    "X_train, X_test, y_train, y_test = train_test_split(X_scaled , y, test_size=0.3)"
   ]
  },
  {
   "cell_type": "code",
   "execution_count": 19,
   "metadata": {},
   "outputs": [],
   "source": [
    "import sklearn\n",
    "import warnings\n",
    "warnings.filterwarnings(\"ignore\")\n",
    "from sklearn.linear_model import LinearRegression, Ridge, ElasticNet, Lasso\n",
    "from sklearn.preprocessing import PolynomialFeatures\n",
    "from sklearn.neighbors import KNeighborsRegressor\n",
    "from sklearn.ensemble import RandomForestRegressor"
   ]
  },
  {
   "cell_type": "code",
   "execution_count": 20,
   "metadata": {},
   "outputs": [
    {
     "name": "stdout",
     "output_type": "stream",
     "text": [
      "Test Mean Absolute Residuals (Linear Regression) : 28.3508 \n",
      "Test Mean Absolute Residuals (Random Forest Regressor) : 63.1820 \n",
      "Test Mean Absolute Residuals (KNeighbors Regressor) : 200.7799 \n",
      "Test Mean Absolute Residuals (Ridge Regressor) : 36.5468 \n",
      "Test Mean Absolute Residuals (Elastic Net Regressor) : 374.4185 \n",
      "Test Mean Absolute Residuals (Lasso Regressor) : 32.3264 \n"
     ]
    },
    {
     "data": {
      "image/png": "[encoded data removed]",
      "text/plain": [
       "<Figure size 432x288 with 1 Axes>"
      ]
     },
     "metadata": {},
     "output_type": "display_data"
    }
   ],
   "source": [
    "LR = LinearRegression()\n",
    "RF = RandomForestRegressor()\n",
    "KNN = KNeighborsRegressor()\n",
    "RR = Ridge()\n",
    "EN = ElasticNet()\n",
    "LS = Lasso()\n",
    "clfs = []\n",
    "for clf, label in zip([LR, RF, KNN, RR, EN, LS],\n",
    "                      ['Linear Regression',\n",
    "                       'Random Forest Regressor',\n",
    "                       'KNeighbors Regressor',\n",
    "                       'Ridge Regressor',\n",
    "                       'Elastic Net Regressor',\n",
    "                       'Lasso Regressor']):\n",
    "    md = clf.fit(X_train, y_train)\n",
    "    clfs.append(md)\n",
    "    print(\"Test Mean Absolute Residuals (%s) : %0.4f \" % (label,sklearn.metrics.mean_absolute_error(clf.predict(X_test), y_test)))\n",
    "    plt.barh(label,sklearn.metrics.mean_absolute_error(clf.predict(X_test), y_test))\n",
    "    plt.title(\"Mean Absolute Errors\")"
   ]
  }
 ],
 "metadata": {
  "kernelspec": {
   "display_name": "Python 3",
   "language": "python",
   "name": "python3"
  },
  "language_info": {
   "codemirror_mode": {
    "name": "ipython",
    "version": 3
   },
   "file_extension": ".py",
   "mimetype": "text/x-python",
   "name": "python",
   "nbconvert_exporter": "python",
   "pygments_lexer": "ipython3",
   "version": "3.6.5"
  }
 },
 "nbformat": 4,
 "nbformat_minor": 5
}
